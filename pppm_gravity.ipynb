{
 "cells": [
  {
   "cell_type": "markdown",
   "metadata": {},
   "source": [
    "# Particle-Particle Particle-Mesh Manybody Gravity Simulator"
   ]
  },
  {
   "cell_type": "code",
   "execution_count": 24,
   "metadata": {},
   "outputs": [],
   "source": [
    "import numpy as np\n",
    "import matplotlib.pyplot as plt\n",
    "%matplotlib inline"
   ]
  },
  {
   "cell_type": "code",
   "execution_count": 25,
   "metadata": {
    "collapsed": true
   },
   "outputs": [],
   "source": [
    "dim = 2 # Set the number of dimensions to 2"
   ]
  },
  {
   "cell_type": "markdown",
   "metadata": {},
   "source": [
    "`Particles` class:\n",
    "\n",
    "members:\n",
    "  * masses: an array of masses\n",
    "  * positions: an array of `dim` component positions positions\n",
    "  * velocities: an array of `dim` component velocities\n",
    "  \n",
    "methods:\n",
    "  * \\__init\\__: initialize the simulations with a random array of particles"
   ]
  },
  {
   "cell_type": "code",
   "execution_count": 26,
   "metadata": {
    "collapsed": true
   },
   "outputs": [],
   "source": [
    "class Particles:\n",
    "    \"\"\"Array or masses, positions, and velocities\"\"\"\n",
    "    \n",
    "    def __init__(self, n):\n",
    "        self.masses = np.random.exponential(scale=1.0, size=n)\n",
    "        self.positions = np.random.standard_normal(size=(n,dim))\n",
    "        self.velocities = np.random.standard_normal(size=(n,dim))"
   ]
  },
  {
   "cell_type": "code",
   "execution_count": 53,
   "metadata": {},
   "outputs": [
    {
     "name": "stdout",
     "output_type": "stream",
     "text": [
      "[ 0.06619215  0.08582623  0.76450886  0.01030795  0.97020294]\n",
      "(5, 2)\n",
      "(0.49308397107154689, -1.5070826919817404)\n"
     ]
    }
   ],
   "source": [
    "# Example usage\n",
    "p = Particles(5) # create the `Particles` object\n",
    "# examine its behavior\n",
    "print( p.masses)\n",
    "print( p.positions.shape )\n",
    "print( (np.max(p.velocities), np.min(p.velocities)))\n",
    "# Expected output\n",
    "# [ #, #, #, #, #]\n",
    "# (5, 2)\n",
    "# ( #, #)"
   ]
  },
  {
   "cell_type": "markdown",
   "metadata": {},
   "source": [
    "`plot_particles` function:\n",
    "\n",
    "arguments:\n",
    "    * particles: A `Particles` object\n",
    "    * velocities: A boolean to show arrows for velocities (default = False)\n",
    "    * scale: A float parameter to grow or shrink the particle size (default = 1.0)"
   ]
  },
  {
   "cell_type": "code",
   "execution_count": 60,
   "metadata": {},
   "outputs": [],
   "source": [
    "def plot_particles(particles, velocities=False, scale=1.):\n",
    "    \"\"\"Create a Scatterplot of the particles\"\"\"\n",
    "    fig, ax = plt.subplots()\n",
    "    x = particles.positions[:,0] # x components of position\n",
    "    y = particles.positions[:,1] # y components of position\n",
    "    ax.scatter(x, y, s=10*scale*particles.masses, alpha = 0.5)\n",
    "    ax.set_xlim(-4, 4)\n",
    "    ax.set_ylim(-4, 4)\n",
    "    ax.set_xticks([])\n",
    "    ax.set_yticks([])\n",
    "    if velocities:\n",
    "        # Create an array the mashes together the position and velocity arrays\n",
    "        pos_and_vel = np.concatenate((particles.positions, particles.velocities), axis=1)\n",
    "        for x,y,vx,vy in pos_and_vel:\n",
    "            ax.arrow(x,y,0.1*scale*vx,0.1*scale*vy)        \n",
    "    plt.show()"
   ]
  },
  {
   "cell_type": "code",
   "execution_count": 61,
   "metadata": {},
   "outputs": [
    {
     "data": {
      "image/png": "[encoded data removed]",
      "text/plain": [
       "<matplotlib.figure.Figure at 0x7f6830ceb630>"
      ]
     },
     "metadata": {},
     "output_type": "display_data"
    }
   ],
   "source": [
    "# Test it out!\n",
    "p = Particles(100)\n",
    "plot_particles(p)"
   ]
  },
  {
   "cell_type": "code",
   "execution_count": 62,
   "metadata": {},
   "outputs": [
    {
     "data": {
      "image/png": "[encoded data removed]",
      "text/plain": [
       "<matplotlib.figure.Figure at 0x7f6830e12ba8>"
      ]
     },
     "metadata": {},
     "output_type": "display_data"
    }
   ],
   "source": [
    "# Test it out with velocities\n",
    "p = Particles(50)\n",
    "plot_particles(p, velocities=True)"
   ]
  },
  {
   "cell_type": "code",
   "execution_count": null,
   "metadata": {
    "collapsed": true
   },
   "outputs": [],
   "source": []
  }
 ],
 "metadata": {
  "kernelspec": {
   "display_name": "Python 3",
   "language": "python",
   "name": "python3"
  },
  "language_info": {
   "codemirror_mode": {
    "name": "ipython",
    "version": 3
   },
   "file_extension": ".py",
   "mimetype": "text/x-python",
   "name": "python",
   "nbconvert_exporter": "python",
   "pygments_lexer": "ipython3",
   "version": "3.6.3"
  }
 },
 "nbformat": 4,
 "nbformat_minor": 2
}
